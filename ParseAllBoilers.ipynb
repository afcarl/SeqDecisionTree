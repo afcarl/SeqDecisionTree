{
 "cells": [
  {
   "cell_type": "code",
   "execution_count": 1,
   "metadata": {
    "collapsed": true
   },
   "outputs": [],
   "source": [
    "%matplotlib inline\n",
    "import numpy as np\n",
    "import pandas as pd\n",
    "pd.set_option('display.max_columns', 500)"
   ]
  },
  {
   "cell_type": "code",
   "execution_count": null,
   "metadata": {
    "collapsed": true
   },
   "outputs": [],
   "source": []
  },
  {
   "cell_type": "code",
   "execution_count": null,
   "metadata": {
    "collapsed": true
   },
   "outputs": [],
   "source": []
  },
  {
   "cell_type": "code",
   "execution_count": 13,
   "metadata": {
    "collapsed": true
   },
   "outputs": [],
   "source": [
    "def ParseBoiler(filename):\n",
    "    \n",
    "    dfOrig = pd.read_csv('/dfs/scratch0/bosch/BG-Data_Part11/2029718103746674690.csv',\n",
    "                     parse_dates=[['Date','Time']], delimiter='\\t')\n",
    "    dfOrig2 = dfOrig.drop([0]) #TODO - remove this?\n",
    "    dfOrig2['Date_Time'] = pd.to_datetime(dfOrig2['Date_Time'], format='%d.%m.%Y %H:%M:%S', errors='coerce')\n",
    "    \n",
    "    #Only select the columns we care about\n",
    "    dfSubset = dfOrig2[['Date_Time', 'Operating_status:_Error_Locking', 'Operating_status:_Error_Blocking',\n",
    "                   'Actual_Power', 'Number_of_burner_starts', 'Operating_status:_Central_heating_active',\n",
    "                  'Operating_status:_Hot_water_active', 'Operating_status:_Flame', 'Relay_status:_Gasvalve',\n",
    "                  'Relay_status:_Fan', 'Relay_status:_Ignition', 'Relay_status:_internal_3-way-valve',\n",
    "                  'Relay_status:_HW_circulation_pump', 'Supply_temperature_(primary_flow_temperature)',\n",
    "                  'Maximum_supply_(primary_flow)_temperature', 'Hot_water_temperature_setpoint', \n",
    "                  'Hot_water_outlet_temperature', 'Actual_flow_rate_turbine', 'Fan_speed']]\n",
    "    \n",
    "    #Fill in missing entries\n",
    "    df = dfSubset.fillna(method = 'ffill')\n",
    "    \n",
    "    print \"Successfully loaded\", dfOrig\n",
    "    \n",
    "    Positives = df.loc[(df['Operating_status:_Error_Locking'] == 1) \n",
    "                       & (df['Operating_status:_Error_Locking'].shift(1) == 0)]\n",
    "    \n",
    "      \n",
    "    for index, row in Positives.iterrows():\n",
    "        #For each Positive example...\n",
    "        eventTime = row['Date_Time']\n",
    "        startTime = eventTime - pd.Timedelta('7 days')\n",
    "        dfPos = df[(df['Date_Time'] >= startTime) & (df['Date_Time'] < eventTime)]\n",
    "        \n",
    "        print dfPos.shape\n",
    "        \n",
    "        sensorList = ['Actual_Power', 'Number_of_burner_starts', 'Operating_status:_Central_heating_active',\n",
    "                  'Operating_status:_Hot_water_active', 'Operating_status:_Flame', 'Relay_status:_Gasvalve',\n",
    "                  'Relay_status:_Fan', 'Relay_status:_Ignition', 'Relay_status:_internal_3-way-valve',\n",
    "                  'Relay_status:_HW_circulation_pump', 'Supply_temperature_(primary_flow_temperature)',\n",
    "                  'Maximum_supply_(primary_flow)_temperature', 'Hot_water_temperature_setpoint', \n",
    "                  'Hot_water_outlet_temperature', 'Actual_flow_rate_turbine', 'Fan_speed']\n",
    "        \n",
    "        for sensor in sensorList:\n",
    "            print \"Getting data for\", sensor\n",
    "            \n",
    "            rawData = np.zeros((168,5))\n",
    "            for j in range(168):\n",
    "                lastTime = startTime + j*pd.Timedelta('1 hour')\n",
    "                currTime = startTime + (j+1)*pd.Timedelta('1 hour')\n",
    "                \n",
    "                dfHourly = dfPos[(dfPos['Date_Time'] >= lastTime) & (dfPos['Date_Time'] < currTime)]\n",
    "\n",
    "                description = dfHourly[sensor].describe()\n",
    "                rawData[j,0] = description['min']\n",
    "                rawData[j,1] = description['max']\n",
    "                rawData[j,2] = description['mean']\n",
    "                rawData[j,3] = description['std']\n",
    "                rawData[j,4] = description['count']\n",
    "\n",
    "                #TODO - FENG'S CODE GOES HERE!\n",
    "        "
   ]
  },
  {
   "cell_type": "code",
   "execution_count": null,
   "metadata": {
    "collapsed": true
   },
   "outputs": [],
   "source": []
  },
  {
   "cell_type": "code",
   "execution_count": null,
   "metadata": {
    "collapsed": true
   },
   "outputs": [],
   "source": []
  },
  {
   "cell_type": "code",
   "execution_count": null,
   "metadata": {
    "collapsed": true
   },
   "outputs": [],
   "source": []
  },
  {
   "cell_type": "code",
   "execution_count": null,
   "metadata": {
    "collapsed": true
   },
   "outputs": [],
   "source": []
  },
  {
   "cell_type": "code",
   "execution_count": null,
   "metadata": {
    "collapsed": true
   },
   "outputs": [],
   "source": []
  },
  {
   "cell_type": "code",
   "execution_count": null,
   "metadata": {
    "collapsed": true
   },
   "outputs": [],
   "source": []
  },
  {
   "cell_type": "code",
   "execution_count": null,
   "metadata": {
    "collapsed": true
   },
   "outputs": [],
   "source": []
  },
  {
   "cell_type": "code",
   "execution_count": null,
   "metadata": {
    "collapsed": true
   },
   "outputs": [],
   "source": []
  },
  {
   "cell_type": "code",
   "execution_count": null,
   "metadata": {
    "collapsed": true
   },
   "outputs": [],
   "source": []
  },
  {
   "cell_type": "code",
   "execution_count": null,
   "metadata": {
    "collapsed": true
   },
   "outputs": [],
   "source": [
    "#Parse ALL Boilers - TODO - unzip other folders too!\n",
    "for filename in os.listdir('/dfs/scratch0/bosch/BG-Data_Part11/'):\n",
    "     ParseBoiler(filename)"
   ]
  },
  {
   "cell_type": "code",
   "execution_count": null,
   "metadata": {
    "collapsed": false
   },
   "outputs": [],
   "source": [
    "#Parse just one boiler (for testing...)\n",
    "ParseBoiler('/dfs/scratch0/bosch/BG-Data_Part11/2029718103746674690.csv')"
   ]
  },
  {
   "cell_type": "code",
   "execution_count": null,
   "metadata": {
    "collapsed": true
   },
   "outputs": [],
   "source": []
  }
 ],
 "metadata": {
  "kernelspec": {
   "display_name": "Python 2",
   "language": "python",
   "name": "python2"
  },
  "language_info": {
   "codemirror_mode": {
    "name": "ipython",
    "version": 2
   },
   "file_extension": ".py",
   "mimetype": "text/x-python",
   "name": "python",
   "nbconvert_exporter": "python",
   "pygments_lexer": "ipython2",
   "version": "2.7.3"
  }
 },
 "nbformat": 4,
 "nbformat_minor": 0
}
